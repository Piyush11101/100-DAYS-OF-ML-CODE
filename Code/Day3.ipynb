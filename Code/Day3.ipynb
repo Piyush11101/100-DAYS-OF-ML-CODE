{
 "cells": [
  {
   "cell_type": "markdown",
   "metadata": {},
   "source": [
    "# DATA PREPROCESSING"
   ]
  },
  {
   "cell_type": "markdown",
   "metadata": {},
   "source": [
    "## Importing the libraries"
   ]
  },
  {
   "cell_type": "code",
   "execution_count": 1,
   "metadata": {},
   "outputs": [],
   "source": [
    "import numpy as np\n",
    "import pandas as pd\n",
    "import matplotlib.pyplot as plt"
   ]
  },
  {
   "cell_type": "markdown",
   "metadata": {},
   "source": [
    "## Importing the dataset"
   ]
  },
  {
   "cell_type": "code",
   "execution_count": 2,
   "metadata": {},
   "outputs": [],
   "source": [
    "dataset = pd.read_csv('/home/piyush/Desktop/Code/100-DAYS-OF-ML-CODE/Datasets/Day3.csv')"
   ]
  },
  {
   "cell_type": "markdown",
   "metadata": {},
   "source": [
    "## This dataset is a basketball dataset which contains desription about players in the   following way\n",
    "\n",
    "* Height\n",
    "* Weight\n",
    "* percentage of succesfull Field_goals\n",
    "* percentage of succesfull Free_throws\n",
    "* average points scored per game\n"
   ]
  },
  {
   "cell_type": "code",
   "execution_count": 3,
   "metadata": {},
   "outputs": [
    {
     "data": {
      "text/html": [
       "<div>\n",
       "<style scoped>\n",
       "    .dataframe tbody tr th:only-of-type {\n",
       "        vertical-align: middle;\n",
       "    }\n",
       "\n",
       "    .dataframe tbody tr th {\n",
       "        vertical-align: top;\n",
       "    }\n",
       "\n",
       "    .dataframe thead th {\n",
       "        text-align: right;\n",
       "    }\n",
       "</style>\n",
       "<table border=\"1\" class=\"dataframe\">\n",
       "  <thead>\n",
       "    <tr style=\"text-align: right;\">\n",
       "      <th></th>\n",
       "      <th>Height</th>\n",
       "      <th>Weight</th>\n",
       "      <th>Field_goals</th>\n",
       "      <th>Free_throws</th>\n",
       "      <th>Points_pergame</th>\n",
       "      <th>State</th>\n",
       "    </tr>\n",
       "  </thead>\n",
       "  <tbody>\n",
       "    <tr>\n",
       "      <th>0</th>\n",
       "      <td>6.8225</td>\n",
       "      <td>0.442</td>\n",
       "      <td>0.672</td>\n",
       "      <td>9.200</td>\n",
       "      <td>11.6</td>\n",
       "      <td>Newyork</td>\n",
       "    </tr>\n",
       "    <tr>\n",
       "      <th>1</th>\n",
       "      <td>6.3000</td>\n",
       "      <td>180.000</td>\n",
       "      <td>0.435</td>\n",
       "      <td>0.797</td>\n",
       "      <td>11.7</td>\n",
       "      <td>California</td>\n",
       "    </tr>\n",
       "    <tr>\n",
       "      <th>2</th>\n",
       "      <td>6.4000</td>\n",
       "      <td>190.000</td>\n",
       "      <td>0.456</td>\n",
       "      <td>0.761</td>\n",
       "      <td>15.8</td>\n",
       "      <td>Florida</td>\n",
       "    </tr>\n",
       "    <tr>\n",
       "      <th>3</th>\n",
       "      <td>6.2000</td>\n",
       "      <td>180.000</td>\n",
       "      <td>0.416</td>\n",
       "      <td>0.651</td>\n",
       "      <td>8.6</td>\n",
       "      <td>Newyork</td>\n",
       "    </tr>\n",
       "    <tr>\n",
       "      <th>4</th>\n",
       "      <td>6.9000</td>\n",
       "      <td>205.000</td>\n",
       "      <td>0.449</td>\n",
       "      <td>0.900</td>\n",
       "      <td>23.2</td>\n",
       "      <td>California</td>\n",
       "    </tr>\n",
       "    <tr>\n",
       "      <th>5</th>\n",
       "      <td>6.4000</td>\n",
       "      <td>225.000</td>\n",
       "      <td>0.431</td>\n",
       "      <td>0.780</td>\n",
       "      <td>27.4</td>\n",
       "      <td>Florida</td>\n",
       "    </tr>\n",
       "    <tr>\n",
       "      <th>6</th>\n",
       "      <td>6.3000</td>\n",
       "      <td>185.000</td>\n",
       "      <td>0.487</td>\n",
       "      <td>0.771</td>\n",
       "      <td>9.3</td>\n",
       "      <td>Newyork</td>\n",
       "    </tr>\n",
       "    <tr>\n",
       "      <th>7</th>\n",
       "      <td>6.8000</td>\n",
       "      <td>235.000</td>\n",
       "      <td>0.469</td>\n",
       "      <td>0.750</td>\n",
       "      <td>16.0</td>\n",
       "      <td>California</td>\n",
       "    </tr>\n",
       "    <tr>\n",
       "      <th>8</th>\n",
       "      <td>6.9000</td>\n",
       "      <td>235.000</td>\n",
       "      <td>0.435</td>\n",
       "      <td>0.818</td>\n",
       "      <td>4.7</td>\n",
       "      <td>Florida</td>\n",
       "    </tr>\n",
       "    <tr>\n",
       "      <th>9</th>\n",
       "      <td>6.7000</td>\n",
       "      <td>210.000</td>\n",
       "      <td>0.480</td>\n",
       "      <td>0.825</td>\n",
       "      <td>12.5</td>\n",
       "      <td>Newyork</td>\n",
       "    </tr>\n",
       "    <tr>\n",
       "      <th>10</th>\n",
       "      <td>6.9000</td>\n",
       "      <td>245.000</td>\n",
       "      <td>0.516</td>\n",
       "      <td>0.632</td>\n",
       "      <td>20.1</td>\n",
       "      <td>California</td>\n",
       "    </tr>\n",
       "    <tr>\n",
       "      <th>11</th>\n",
       "      <td>6.9000</td>\n",
       "      <td>245.000</td>\n",
       "      <td>0.493</td>\n",
       "      <td>0.757</td>\n",
       "      <td>9.1</td>\n",
       "      <td>Florida</td>\n",
       "    </tr>\n",
       "    <tr>\n",
       "      <th>12</th>\n",
       "      <td>6.3000</td>\n",
       "      <td>185.000</td>\n",
       "      <td>0.374</td>\n",
       "      <td>0.709</td>\n",
       "      <td>8.1</td>\n",
       "      <td>Newyork</td>\n",
       "    </tr>\n",
       "    <tr>\n",
       "      <th>13</th>\n",
       "      <td>6.1000</td>\n",
       "      <td>185.000</td>\n",
       "      <td>0.424</td>\n",
       "      <td>0.782</td>\n",
       "      <td>8.6</td>\n",
       "      <td>California</td>\n",
       "    </tr>\n",
       "    <tr>\n",
       "      <th>14</th>\n",
       "      <td>6.2000</td>\n",
       "      <td>180.000</td>\n",
       "      <td>0.441</td>\n",
       "      <td>0.775</td>\n",
       "      <td>20.3</td>\n",
       "      <td>Florida</td>\n",
       "    </tr>\n",
       "    <tr>\n",
       "      <th>15</th>\n",
       "      <td>6.8000</td>\n",
       "      <td>220.000</td>\n",
       "      <td>0.503</td>\n",
       "      <td>0.880</td>\n",
       "      <td>25.0</td>\n",
       "      <td>Newyork</td>\n",
       "    </tr>\n",
       "    <tr>\n",
       "      <th>16</th>\n",
       "      <td>6.5000</td>\n",
       "      <td>194.000</td>\n",
       "      <td>0.503</td>\n",
       "      <td>0.833</td>\n",
       "      <td>19.2</td>\n",
       "      <td>California</td>\n",
       "    </tr>\n",
       "    <tr>\n",
       "      <th>17</th>\n",
       "      <td>7.6000</td>\n",
       "      <td>225.000</td>\n",
       "      <td>0.425</td>\n",
       "      <td>0.571</td>\n",
       "      <td>3.3</td>\n",
       "      <td>Florida</td>\n",
       "    </tr>\n",
       "    <tr>\n",
       "      <th>18</th>\n",
       "      <td>6.3000</td>\n",
       "      <td>210.000</td>\n",
       "      <td>0.371</td>\n",
       "      <td>0.816</td>\n",
       "      <td>11.2</td>\n",
       "      <td>Newyork</td>\n",
       "    </tr>\n",
       "    <tr>\n",
       "      <th>19</th>\n",
       "      <td>7.1000</td>\n",
       "      <td>240.000</td>\n",
       "      <td>0.504</td>\n",
       "      <td>0.714</td>\n",
       "      <td>10.5</td>\n",
       "      <td>California</td>\n",
       "    </tr>\n",
       "    <tr>\n",
       "      <th>20</th>\n",
       "      <td>6.8000</td>\n",
       "      <td>225.000</td>\n",
       "      <td>0.400</td>\n",
       "      <td>0.765</td>\n",
       "      <td>10.1</td>\n",
       "      <td>Florida</td>\n",
       "    </tr>\n",
       "    <tr>\n",
       "      <th>21</th>\n",
       "      <td>7.3000</td>\n",
       "      <td>263.000</td>\n",
       "      <td>0.482</td>\n",
       "      <td>0.655</td>\n",
       "      <td>7.2</td>\n",
       "      <td>Newyork</td>\n",
       "    </tr>\n",
       "    <tr>\n",
       "      <th>22</th>\n",
       "      <td>6.4000</td>\n",
       "      <td>210.000</td>\n",
       "      <td>0.475</td>\n",
       "      <td>0.244</td>\n",
       "      <td>13.6</td>\n",
       "      <td>California</td>\n",
       "    </tr>\n",
       "    <tr>\n",
       "      <th>23</th>\n",
       "      <td>6.8000</td>\n",
       "      <td>235.000</td>\n",
       "      <td>0.428</td>\n",
       "      <td>0.728</td>\n",
       "      <td>9.0</td>\n",
       "      <td>Florida</td>\n",
       "    </tr>\n",
       "    <tr>\n",
       "      <th>24</th>\n",
       "      <td>7.2000</td>\n",
       "      <td>230.000</td>\n",
       "      <td>0.559</td>\n",
       "      <td>0.721</td>\n",
       "      <td>24.6</td>\n",
       "      <td>Newyork</td>\n",
       "    </tr>\n",
       "    <tr>\n",
       "      <th>25</th>\n",
       "      <td>6.4000</td>\n",
       "      <td>190.000</td>\n",
       "      <td>0.441</td>\n",
       "      <td>0.757</td>\n",
       "      <td>12.6</td>\n",
       "      <td>California</td>\n",
       "    </tr>\n",
       "    <tr>\n",
       "      <th>26</th>\n",
       "      <td>6.6000</td>\n",
       "      <td>220.000</td>\n",
       "      <td>0.492</td>\n",
       "      <td>0.747</td>\n",
       "      <td>5.6</td>\n",
       "      <td>Florida</td>\n",
       "    </tr>\n",
       "    <tr>\n",
       "      <th>27</th>\n",
       "      <td>6.8000</td>\n",
       "      <td>210.000</td>\n",
       "      <td>0.402</td>\n",
       "      <td>0.739</td>\n",
       "      <td>8.7</td>\n",
       "      <td>Newyork</td>\n",
       "    </tr>\n",
       "    <tr>\n",
       "      <th>28</th>\n",
       "      <td>6.1000</td>\n",
       "      <td>180.000</td>\n",
       "      <td>0.415</td>\n",
       "      <td>0.713</td>\n",
       "      <td>7.7</td>\n",
       "      <td>California</td>\n",
       "    </tr>\n",
       "    <tr>\n",
       "      <th>29</th>\n",
       "      <td>6.5000</td>\n",
       "      <td>235.000</td>\n",
       "      <td>0.492</td>\n",
       "      <td>0.742</td>\n",
       "      <td>24.1</td>\n",
       "      <td>Florida</td>\n",
       "    </tr>\n",
       "  </tbody>\n",
       "</table>\n",
       "</div>"
      ],
      "text/plain": [
       "    Height   Weight  Field_goals  Free_throws  Points_pergame       State\n",
       "0   6.8225    0.442        0.672        9.200            11.6     Newyork\n",
       "1   6.3000  180.000        0.435        0.797            11.7  California\n",
       "2   6.4000  190.000        0.456        0.761            15.8     Florida\n",
       "3   6.2000  180.000        0.416        0.651             8.6     Newyork\n",
       "4   6.9000  205.000        0.449        0.900            23.2  California\n",
       "5   6.4000  225.000        0.431        0.780            27.4     Florida\n",
       "6   6.3000  185.000        0.487        0.771             9.3     Newyork\n",
       "7   6.8000  235.000        0.469        0.750            16.0  California\n",
       "8   6.9000  235.000        0.435        0.818             4.7     Florida\n",
       "9   6.7000  210.000        0.480        0.825            12.5     Newyork\n",
       "10  6.9000  245.000        0.516        0.632            20.1  California\n",
       "11  6.9000  245.000        0.493        0.757             9.1     Florida\n",
       "12  6.3000  185.000        0.374        0.709             8.1     Newyork\n",
       "13  6.1000  185.000        0.424        0.782             8.6  California\n",
       "14  6.2000  180.000        0.441        0.775            20.3     Florida\n",
       "15  6.8000  220.000        0.503        0.880            25.0     Newyork\n",
       "16  6.5000  194.000        0.503        0.833            19.2  California\n",
       "17  7.6000  225.000        0.425        0.571             3.3     Florida\n",
       "18  6.3000  210.000        0.371        0.816            11.2     Newyork\n",
       "19  7.1000  240.000        0.504        0.714            10.5  California\n",
       "20  6.8000  225.000        0.400        0.765            10.1     Florida\n",
       "21  7.3000  263.000        0.482        0.655             7.2     Newyork\n",
       "22  6.4000  210.000        0.475        0.244            13.6  California\n",
       "23  6.8000  235.000        0.428        0.728             9.0     Florida\n",
       "24  7.2000  230.000        0.559        0.721            24.6     Newyork\n",
       "25  6.4000  190.000        0.441        0.757            12.6  California\n",
       "26  6.6000  220.000        0.492        0.747             5.6     Florida\n",
       "27  6.8000  210.000        0.402        0.739             8.7     Newyork\n",
       "28  6.1000  180.000        0.415        0.713             7.7  California\n",
       "29  6.5000  235.000        0.492        0.742            24.1     Florida"
      ]
     },
     "execution_count": 3,
     "metadata": {},
     "output_type": "execute_result"
    }
   ],
   "source": [
    "dataset"
   ]
  },
  {
   "cell_type": "code",
   "execution_count": 4,
   "metadata": {},
   "outputs": [],
   "source": [
    "X = dataset.iloc[:, : -2].values\n",
    "Y = dataset.iloc[:, 4].values"
   ]
  },
  {
   "cell_type": "code",
   "execution_count": 5,
   "metadata": {},
   "outputs": [
    {
     "data": {
      "text/plain": [
       "array([[6.8225e+00, 4.4200e-01, 6.7200e-01, 9.2000e+00],\n",
       "       [6.3000e+00, 1.8000e+02, 4.3500e-01, 7.9700e-01],\n",
       "       [6.4000e+00, 1.9000e+02, 4.5600e-01, 7.6100e-01],\n",
       "       [6.2000e+00, 1.8000e+02, 4.1600e-01, 6.5100e-01],\n",
       "       [6.9000e+00, 2.0500e+02, 4.4900e-01, 9.0000e-01],\n",
       "       [6.4000e+00, 2.2500e+02, 4.3100e-01, 7.8000e-01],\n",
       "       [6.3000e+00, 1.8500e+02, 4.8700e-01, 7.7100e-01],\n",
       "       [6.8000e+00, 2.3500e+02, 4.6900e-01, 7.5000e-01],\n",
       "       [6.9000e+00, 2.3500e+02, 4.3500e-01, 8.1800e-01],\n",
       "       [6.7000e+00, 2.1000e+02, 4.8000e-01, 8.2500e-01],\n",
       "       [6.9000e+00, 2.4500e+02, 5.1600e-01, 6.3200e-01],\n",
       "       [6.9000e+00, 2.4500e+02, 4.9300e-01, 7.5700e-01],\n",
       "       [6.3000e+00, 1.8500e+02, 3.7400e-01, 7.0900e-01],\n",
       "       [6.1000e+00, 1.8500e+02, 4.2400e-01, 7.8200e-01],\n",
       "       [6.2000e+00, 1.8000e+02, 4.4100e-01, 7.7500e-01],\n",
       "       [6.8000e+00, 2.2000e+02, 5.0300e-01, 8.8000e-01],\n",
       "       [6.5000e+00, 1.9400e+02, 5.0300e-01, 8.3300e-01],\n",
       "       [7.6000e+00, 2.2500e+02, 4.2500e-01, 5.7100e-01],\n",
       "       [6.3000e+00, 2.1000e+02, 3.7100e-01, 8.1600e-01],\n",
       "       [7.1000e+00, 2.4000e+02, 5.0400e-01, 7.1400e-01],\n",
       "       [6.8000e+00, 2.2500e+02, 4.0000e-01, 7.6500e-01],\n",
       "       [7.3000e+00, 2.6300e+02, 4.8200e-01, 6.5500e-01],\n",
       "       [6.4000e+00, 2.1000e+02, 4.7500e-01, 2.4400e-01],\n",
       "       [6.8000e+00, 2.3500e+02, 4.2800e-01, 7.2800e-01],\n",
       "       [7.2000e+00, 2.3000e+02, 5.5900e-01, 7.2100e-01],\n",
       "       [6.4000e+00, 1.9000e+02, 4.4100e-01, 7.5700e-01],\n",
       "       [6.6000e+00, 2.2000e+02, 4.9200e-01, 7.4700e-01],\n",
       "       [6.8000e+00, 2.1000e+02, 4.0200e-01, 7.3900e-01],\n",
       "       [6.1000e+00, 1.8000e+02, 4.1500e-01, 7.1300e-01],\n",
       "       [6.5000e+00, 2.3500e+02, 4.9200e-01, 7.4200e-01]])"
      ]
     },
     "execution_count": 5,
     "metadata": {},
     "output_type": "execute_result"
    }
   ],
   "source": [
    "X"
   ]
  },
  {
   "cell_type": "code",
   "execution_count": 6,
   "metadata": {},
   "outputs": [
    {
     "data": {
      "text/plain": [
       "array([11.6, 11.7, 15.8,  8.6, 23.2, 27.4,  9.3, 16. ,  4.7, 12.5, 20.1,\n",
       "        9.1,  8.1,  8.6, 20.3, 25. , 19.2,  3.3, 11.2, 10.5, 10.1,  7.2,\n",
       "       13.6,  9. , 24.6, 12.6,  5.6,  8.7,  7.7, 24.1])"
      ]
     },
     "execution_count": 6,
     "metadata": {},
     "output_type": "execute_result"
    }
   ],
   "source": [
    "Y"
   ]
  },
  {
   "cell_type": "markdown",
   "metadata": {},
   "source": [
    "## Note: Since we have not included ant categorical data that's why there is no need of anytype of encoding"
   ]
  },
  {
   "cell_type": "markdown",
   "metadata": {},
   "source": [
    "## Avoiding Dummy Variable Trap"
   ]
  },
  {
   "cell_type": "code",
   "execution_count": 7,
   "metadata": {},
   "outputs": [
    {
     "data": {
      "text/plain": [
       "array([[0.672, 9.2  ],\n",
       "       [0.435, 0.797],\n",
       "       [0.456, 0.761],\n",
       "       [0.416, 0.651],\n",
       "       [0.449, 0.9  ],\n",
       "       [0.431, 0.78 ],\n",
       "       [0.487, 0.771],\n",
       "       [0.469, 0.75 ],\n",
       "       [0.435, 0.818],\n",
       "       [0.48 , 0.825],\n",
       "       [0.516, 0.632],\n",
       "       [0.493, 0.757],\n",
       "       [0.374, 0.709],\n",
       "       [0.424, 0.782],\n",
       "       [0.441, 0.775],\n",
       "       [0.503, 0.88 ],\n",
       "       [0.503, 0.833],\n",
       "       [0.425, 0.571],\n",
       "       [0.371, 0.816],\n",
       "       [0.504, 0.714],\n",
       "       [0.4  , 0.765],\n",
       "       [0.482, 0.655],\n",
       "       [0.475, 0.244],\n",
       "       [0.428, 0.728],\n",
       "       [0.559, 0.721],\n",
       "       [0.441, 0.757],\n",
       "       [0.492, 0.747],\n",
       "       [0.402, 0.739],\n",
       "       [0.415, 0.713],\n",
       "       [0.492, 0.742]])"
      ]
     },
     "execution_count": 7,
     "metadata": {},
     "output_type": "execute_result"
    }
   ],
   "source": [
    "X = X[:, 2:]\n",
    "X"
   ]
  },
  {
   "cell_type": "markdown",
   "metadata": {},
   "source": [
    "## Splitting the dataset into the Training set and Test set"
   ]
  },
  {
   "cell_type": "code",
   "execution_count": 8,
   "metadata": {},
   "outputs": [],
   "source": [
    "from sklearn.model_selection import train_test_split\n",
    "X_train, X_test, Y_train, Y_test = train_test_split(X,Y, test_size =0.2, random_state=0)"
   ]
  },
  {
   "cell_type": "markdown",
   "metadata": {},
   "source": [
    "## Fitting Multiple Linear Regression to the Training set"
   ]
  },
  {
   "cell_type": "code",
   "execution_count": 9,
   "metadata": {},
   "outputs": [
    {
     "data": {
      "text/plain": [
       "LinearRegression(copy_X=True, fit_intercept=True, n_jobs=None, normalize=False)"
      ]
     },
     "execution_count": 9,
     "metadata": {},
     "output_type": "execute_result"
    }
   ],
   "source": [
    "from sklearn.linear_model import LinearRegression\n",
    "le = LinearRegression()\n",
    "le.fit(X_train, Y_train)\n",
    "\n"
   ]
  },
  {
   "cell_type": "markdown",
   "metadata": {},
   "source": [
    "## Predicting the Test set results"
   ]
  },
  {
   "cell_type": "code",
   "execution_count": 10,
   "metadata": {},
   "outputs": [
    {
     "name": "stdout",
     "output_type": "stream",
     "text": [
      "[13.54391349 11.54970073 11.90416239 16.74613485 15.37492082 18.78254977]\n"
     ]
    }
   ],
   "source": [
    "prediction = le.predict(X_test)\n",
    "\n",
    "print(prediction)\n"
   ]
  },
  {
   "cell_type": "code",
   "execution_count": null,
   "metadata": {},
   "outputs": [],
   "source": []
  }
 ],
 "metadata": {
  "kernelspec": {
   "display_name": "Python 3",
   "language": "python",
   "name": "python3"
  },
  "language_info": {
   "codemirror_mode": {
    "name": "ipython",
    "version": 3
   },
   "file_extension": ".py",
   "mimetype": "text/x-python",
   "name": "python",
   "nbconvert_exporter": "python",
   "pygments_lexer": "ipython3",
   "version": "3.7.7"
  }
 },
 "nbformat": 4,
 "nbformat_minor": 4
}
